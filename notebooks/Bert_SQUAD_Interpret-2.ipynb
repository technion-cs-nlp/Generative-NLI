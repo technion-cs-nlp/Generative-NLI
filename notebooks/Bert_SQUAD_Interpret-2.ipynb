{
 "cells": [
  {
   "cell_type": "markdown",
   "metadata": {
    "id": "_-aub9J4xvcM"
   },
   "source": [
    "# Interpreting BERT Models (Part 1)"
   ]
  },
  {
   "cell_type": "code",
   "execution_count": 1,
   "metadata": {
    "colab": {
     "base_uri": "https://localhost:8080/"
    },
    "id": "fvmFShueyD_s",
    "outputId": "f6830dd3-426e-410a-e5bd-1e8ecce8002f"
   },
   "outputs": [
    {
     "name": "stdout",
     "output_type": "stream",
     "text": [
      "Requirement already satisfied: transformers in /home/dimion/miniconda3/envs/dimi/lib/python3.8/site-packages (4.1.1)\n",
      "Requirement already satisfied: sacremoses in /home/dimion/miniconda3/envs/dimi/lib/python3.8/site-packages (from transformers) (0.0.43)\n",
      "Requirement already satisfied: regex!=2019.12.17 in /home/dimion/miniconda3/envs/dimi/lib/python3.8/site-packages (from transformers) (2020.11.13)\n",
      "Requirement already satisfied: filelock in /home/dimion/miniconda3/envs/dimi/lib/python3.8/site-packages (from transformers) (3.0.12)\n",
      "Requirement already satisfied: tqdm>=4.27 in /home/dimion/miniconda3/envs/dimi/lib/python3.8/site-packages (from transformers) (4.54.1)\n",
      "Requirement already satisfied: requests in /home/dimion/miniconda3/envs/dimi/lib/python3.8/site-packages (from transformers) (2.25.0)\n",
      "Requirement already satisfied: packaging in /home/dimion/miniconda3/envs/dimi/lib/python3.8/site-packages (from transformers) (20.8)\n",
      "Requirement already satisfied: numpy in /home/dimion/miniconda3/envs/dimi/lib/python3.8/site-packages (from transformers) (1.19.2)\n",
      "Requirement already satisfied: tokenizers==0.9.4 in /home/dimion/miniconda3/envs/dimi/lib/python3.8/site-packages (from transformers) (0.9.4)\n",
      "Requirement already satisfied: pyparsing>=2.0.2 in /home/dimion/miniconda3/envs/dimi/lib/python3.8/site-packages (from packaging->transformers) (2.4.7)\n",
      "Requirement already satisfied: certifi>=2017.4.17 in /home/dimion/miniconda3/envs/dimi/lib/python3.8/site-packages (from requests->transformers) (2020.12.5)\n",
      "Requirement already satisfied: idna<3,>=2.5 in /home/dimion/miniconda3/envs/dimi/lib/python3.8/site-packages (from requests->transformers) (2.10)\n",
      "Requirement already satisfied: chardet<4,>=3.0.2 in /home/dimion/miniconda3/envs/dimi/lib/python3.8/site-packages (from requests->transformers) (3.0.4)\n",
      "Requirement already satisfied: urllib3<1.27,>=1.21.1 in /home/dimion/miniconda3/envs/dimi/lib/python3.8/site-packages (from requests->transformers) (1.25.11)\n",
      "Requirement already satisfied: joblib in /home/dimion/miniconda3/envs/dimi/lib/python3.8/site-packages (from sacremoses->transformers) (1.0.0)\n",
      "Requirement already satisfied: click in /home/dimion/miniconda3/envs/dimi/lib/python3.8/site-packages (from sacremoses->transformers) (7.1.2)\n",
      "Requirement already satisfied: six in /home/dimion/miniconda3/envs/dimi/lib/python3.8/site-packages (from sacremoses->transformers) (1.15.0)\n",
      "Requirement already satisfied: captum in /home/dimion/miniconda3/envs/dimi/lib/python3.8/site-packages (0.3.0)\n",
      "Requirement already satisfied: matplotlib in /home/dimion/miniconda3/envs/dimi/lib/python3.8/site-packages (from captum) (3.3.2)\n",
      "Requirement already satisfied: torch>=1.2 in /home/dimion/miniconda3/envs/dimi/lib/python3.8/site-packages (from captum) (1.7.1)\n",
      "Requirement already satisfied: numpy in /home/dimion/miniconda3/envs/dimi/lib/python3.8/site-packages (from captum) (1.19.2)\n",
      "Requirement already satisfied: typing_extensions in /home/dimion/miniconda3/envs/dimi/lib/python3.8/site-packages (from torch>=1.2->captum) (3.7.4.3)\n",
      "Requirement already satisfied: kiwisolver>=1.0.1 in /home/dimion/miniconda3/envs/dimi/lib/python3.8/site-packages (from matplotlib->captum) (1.3.0)\n",
      "Requirement already satisfied: certifi>=2020.06.20 in /home/dimion/miniconda3/envs/dimi/lib/python3.8/site-packages (from matplotlib->captum) (2020.12.5)\n",
      "Requirement already satisfied: pillow>=6.2.0 in /home/dimion/miniconda3/envs/dimi/lib/python3.8/site-packages (from matplotlib->captum) (8.0.1)\n",
      "Requirement already satisfied: pyparsing!=2.0.4,!=2.1.2,!=2.1.6,>=2.0.3 in /home/dimion/miniconda3/envs/dimi/lib/python3.8/site-packages (from matplotlib->captum) (2.4.7)\n",
      "Requirement already satisfied: python-dateutil>=2.1 in /home/dimion/miniconda3/envs/dimi/lib/python3.8/site-packages (from matplotlib->captum) (2.8.1)\n",
      "Requirement already satisfied: cycler>=0.10 in /home/dimion/miniconda3/envs/dimi/lib/python3.8/site-packages (from matplotlib->captum) (0.10.0)\n",
      "Requirement already satisfied: six in /home/dimion/miniconda3/envs/dimi/lib/python3.8/site-packages (from cycler>=0.10->matplotlib->captum) (1.15.0)\n",
      "Requirement already satisfied: seaborn in /home/dimion/miniconda3/envs/dimi/lib/python3.8/site-packages (0.11.1)\n",
      "Requirement already satisfied: numpy>=1.15 in /home/dimion/miniconda3/envs/dimi/lib/python3.8/site-packages (from seaborn) (1.19.2)\n",
      "Requirement already satisfied: matplotlib>=2.2 in /home/dimion/miniconda3/envs/dimi/lib/python3.8/site-packages (from seaborn) (3.3.2)\n",
      "Requirement already satisfied: scipy>=1.0 in /home/dimion/miniconda3/envs/dimi/lib/python3.8/site-packages (from seaborn) (1.5.2)\n",
      "Requirement already satisfied: pandas>=0.23 in /home/dimion/miniconda3/envs/dimi/lib/python3.8/site-packages (from seaborn) (1.1.5)\n",
      "Requirement already satisfied: kiwisolver>=1.0.1 in /home/dimion/miniconda3/envs/dimi/lib/python3.8/site-packages (from matplotlib>=2.2->seaborn) (1.3.0)\n",
      "Requirement already satisfied: pillow>=6.2.0 in /home/dimion/miniconda3/envs/dimi/lib/python3.8/site-packages (from matplotlib>=2.2->seaborn) (8.0.1)\n",
      "Requirement already satisfied: certifi>=2020.06.20 in /home/dimion/miniconda3/envs/dimi/lib/python3.8/site-packages (from matplotlib>=2.2->seaborn) (2020.12.5)\n",
      "Requirement already satisfied: python-dateutil>=2.1 in /home/dimion/miniconda3/envs/dimi/lib/python3.8/site-packages (from matplotlib>=2.2->seaborn) (2.8.1)\n",
      "Requirement already satisfied: cycler>=0.10 in /home/dimion/miniconda3/envs/dimi/lib/python3.8/site-packages (from matplotlib>=2.2->seaborn) (0.10.0)\n",
      "Requirement already satisfied: pyparsing!=2.0.4,!=2.1.2,!=2.1.6,>=2.0.3 in /home/dimion/miniconda3/envs/dimi/lib/python3.8/site-packages (from matplotlib>=2.2->seaborn) (2.4.7)\n",
      "Requirement already satisfied: six in /home/dimion/miniconda3/envs/dimi/lib/python3.8/site-packages (from cycler>=0.10->matplotlib>=2.2->seaborn) (1.15.0)\n",
      "Requirement already satisfied: pytz>=2017.2 in /home/dimion/miniconda3/envs/dimi/lib/python3.8/site-packages (from pandas>=0.23->seaborn) (2020.4)\n"
     ]
    }
   ],
   "source": [
    "!pip install transformers\n",
    "!pip install captum\n",
    "!pip install seaborn"
   ]
  },
  {
   "cell_type": "markdown",
   "metadata": {
    "id": "8asxGPmExvcM"
   },
   "source": [
    "In this notebook we demonstrate how to interpret Bert models using  `Captum` library. In this particular case study we focus on a fine-tuned Question Answering model on SQUAD dataset using transformers library from Hugging Face: https://huggingface.co/transformers/\n",
    "\n",
    "We show how to use interpretation hooks to examine and better understand embeddings, sub-embeddings, bert, and attention layers. \n",
    "\n",
    "Note: Before running this tutorial, please install `seaborn`, `pandas` and `matplotlib`, `transformers`(from hugging face) python packages."
   ]
  },
  {
   "cell_type": "code",
   "execution_count": 2,
   "metadata": {
    "id": "M2VYfGtlxvcN"
   },
   "outputs": [],
   "source": [
    "import os\n",
    "import sys\n",
    "\n",
    "import numpy as np\n",
    "import pandas as pd\n",
    "import seaborn as sns\n",
    "import matplotlib.pyplot as plt\n",
    "\n",
    "import torch\n",
    "import torch.nn as nn\n",
    "\n",
    "from transformers import BertTokenizer, BertForQuestionAnswering, BertConfig, BertForSequenceClassification\n",
    "\n",
    "from captum.attr import visualization as viz\n",
    "from captum.attr import IntegratedGradients, LayerConductance, LayerIntegratedGradients\n",
    "from captum.attr import configure_interpretable_embedding_layer, remove_interpretable_embedding_layer"
   ]
  },
  {
   "cell_type": "code",
   "execution_count": 3,
   "metadata": {
    "colab": {
     "base_uri": "https://localhost:8080/"
    },
    "id": "lSvRsR0dxvcN",
    "outputId": "e26674d2-d515-4a3e-d2d7-0db08d1025f1"
   },
   "outputs": [
    {
     "data": {
      "text/plain": [
       "device(type='cuda', index=0)"
      ]
     },
     "execution_count": 3,
     "metadata": {},
     "output_type": "execute_result"
    }
   ],
   "source": [
    "device = torch.device(\"cuda:0\" if torch.cuda.is_available() else \"cpu\")\n",
    "device"
   ]
  },
  {
   "cell_type": "markdown",
   "metadata": {
    "id": "PFlUPxYRxvcN"
   },
   "source": [
    "The first step is to fine-tune BERT model on SQUAD dataset. This can be easiy accomplished by following the steps described in hugging face's official web site: https://github.com/huggingface/transformers#run_squadpy-fine-tuning-on-squad-for-question-answering \n",
    "\n",
    "Note that the fine-tuning is done on a `bert-base-uncased` pre-trained model."
   ]
  },
  {
   "cell_type": "markdown",
   "metadata": {
    "id": "4ZbkpoenxvcN"
   },
   "source": [
    "After we pretrain the model, we can load the tokenizer and pre-trained BERT model using the commands described below. "
   ]
  },
  {
   "cell_type": "code",
   "execution_count": 4,
   "metadata": {
    "colab": {
     "base_uri": "https://localhost:8080/"
    },
    "id": "vtrFMq0KxvcN",
    "outputId": "35fd66ed-e913-4c68-ef0c-28f520622d9f"
   },
   "outputs": [],
   "source": [
    "# replace <PATH-TO-SAVED-MODEL> with the real path of the saved model\n",
    "model_path = 'bert-base-uncased'\n",
    "\n",
    "# load model\n",
    "model = BertForSequenceClassification.from_pretrained(\"../checkpoints/bert_disc_model\", return_dict=False)\n",
    "model.to(device)\n",
    "model.eval()\n",
    "model.zero_grad()\n",
    "\n",
    "# load tokenizer\n",
    "tokenizer = BertTokenizer.from_pretrained(model_path)"
   ]
  },
  {
   "cell_type": "markdown",
   "metadata": {
    "id": "kedkVKcVxvcN"
   },
   "source": [
    "A helper function to perform forward pass of the model and make predictions."
   ]
  },
  {
   "cell_type": "code",
   "execution_count": 5,
   "metadata": {
    "id": "PqSPhxFyxvcN"
   },
   "outputs": [],
   "source": [
    "def predict(inputs, token_type_ids=None, position_ids=None, attention_mask=None):\n",
    "    return model(inputs, token_type_ids=token_type_ids,\n",
    "                 position_ids=position_ids, attention_mask=attention_mask, )"
   ]
  },
  {
   "cell_type": "markdown",
   "metadata": {
    "id": "fko5KBibxvcN"
   },
   "source": [
    "Defining a custom forward function that will allow us to access the start and end postitions of our prediction using `position` input argument."
   ]
  },
  {
   "cell_type": "code",
   "execution_count": 6,
   "metadata": {
    "id": "7ijgJ5FixvcN"
   },
   "outputs": [],
   "source": [
    "def squad_pos_forward_func(inputs, token_type_ids=None, position_ids=None, attention_mask=None, position=0):\n",
    "    pred = predict(inputs,\n",
    "                   token_type_ids=token_type_ids,\n",
    "                   position_ids=position_ids,\n",
    "                   attention_mask=attention_mask)\n",
    "    pred = pred[position]\n",
    "    return pred"
   ]
  },
  {
   "cell_type": "markdown",
   "metadata": {
    "id": "TpRRM-9fxvcN"
   },
   "source": [
    "Let's compute attributions with respect to the `BertEmbeddings` layer.\n",
    "\n",
    "To do so, we need to define baselines / references, numericalize both the baselines and the inputs. We will define helper functions to achieve that.\n",
    "\n",
    "The cell below defines numericalized special tokens that will be later used for constructing inputs and corresponding baselines/references."
   ]
  },
  {
   "cell_type": "code",
   "execution_count": 7,
   "metadata": {
    "id": "tnvErrAbxvcN"
   },
   "outputs": [],
   "source": [
    "ref_token_id = tokenizer.pad_token_id # A token used for generating token reference\n",
    "sep_token_id = tokenizer.sep_token_id # A token used as a separator between question and text and it is also added to the end of the text.\n",
    "cls_token_id = tokenizer.cls_token_id # A token used for prepending to the concatenated question-text word sequence"
   ]
  },
  {
   "cell_type": "markdown",
   "metadata": {
    "id": "V7sgKpo0xvcO"
   },
   "source": [
    "Below we define a set of helper function for constructing references / baselines for word tokens, token types and position ids. We also provide separate helper functions that allow to construct the sub-embeddings and corresponding baselines / references for all sub-embeddings of `BertEmbeddings` layer."
   ]
  },
  {
   "cell_type": "code",
   "execution_count": 8,
   "metadata": {
    "id": "0y47UDMSxvcO"
   },
   "outputs": [],
   "source": [
    "def construct_input_ref_pair(premise, hypothesis, ref_token_id, sep_token_id, cls_token_id):\n",
    "    premise_ids = tokenizer.encode(premise, add_special_tokens=False)\n",
    "    hypothesis_ids = tokenizer.encode(hypothesis, add_special_tokens=False)\n",
    "\n",
    "    # construct input token ids\n",
    "    input_ids = [cls_token_id] + premise_ids + [sep_token_id] + hypothesis_ids + [sep_token_id]\n",
    "\n",
    "    # construct reference token ids \n",
    "    ref_input_ids = [cls_token_id] + [ref_token_id] * len(premise_ids) + [sep_token_id] + \\\n",
    "        [ref_token_id] * len(hypothesis_ids) + [sep_token_id]\n",
    "\n",
    "    return torch.tensor([input_ids], device=device), torch.tensor([ref_input_ids], device=device), len(premise_ids)\n",
    "\n",
    "def construct_input_ref_token_type_pair(input_ids, sep_ind=0):\n",
    "    seq_len = input_ids.size(1)\n",
    "    token_type_ids = torch.tensor([[0 if i <= sep_ind else 1 for i in range(seq_len)]], device=device)\n",
    "    ref_token_type_ids = torch.zeros_like(token_type_ids, device=device)# * -1\n",
    "    return token_type_ids, ref_token_type_ids\n",
    "\n",
    "def construct_input_ref_pos_id_pair(input_ids):\n",
    "    seq_length = input_ids.size(1)\n",
    "    position_ids = torch.arange(seq_length, dtype=torch.long, device=device)\n",
    "    # we could potentially also use random permutation with `torch.randperm(seq_length, device=device)`\n",
    "    ref_position_ids = torch.zeros(seq_length, dtype=torch.long, device=device)\n",
    "\n",
    "    position_ids = position_ids.unsqueeze(0).expand_as(input_ids)\n",
    "    ref_position_ids = ref_position_ids.unsqueeze(0).expand_as(input_ids)\n",
    "    return position_ids, ref_position_ids\n",
    "    \n",
    "def construct_attention_mask(input_ids):\n",
    "    return torch.ones_like(input_ids)\n",
    "\n",
    "def construct_bert_sub_embedding(input_ids, ref_input_ids,\n",
    "                                   token_type_ids, ref_token_type_ids,\n",
    "                                   position_ids, ref_position_ids):\n",
    "    input_embeddings = interpretable_embedding1.indices_to_embeddings(input_ids)\n",
    "    ref_input_embeddings = interpretable_embedding1.indices_to_embeddings(ref_input_ids)\n",
    "\n",
    "    input_embeddings_token_type = interpretable_embedding2.indices_to_embeddings(token_type_ids)\n",
    "    ref_input_embeddings_token_type = interpretable_embedding2.indices_to_embeddings(ref_token_type_ids)\n",
    "\n",
    "    input_embeddings_position_ids = interpretable_embedding3.indices_to_embeddings(position_ids)\n",
    "    ref_input_embeddings_position_ids = interpretable_embedding3.indices_to_embeddings(ref_position_ids)\n",
    "    \n",
    "    return (input_embeddings, ref_input_embeddings), \\\n",
    "           (input_embeddings_token_type, ref_input_embeddings_token_type), \\\n",
    "           (input_embeddings_position_ids, ref_input_embeddings_position_ids)\n",
    "    \n",
    "def construct_whole_bert_embeddings(input_ids, ref_input_ids, \\\n",
    "                                    token_type_ids=None, ref_token_type_ids=None, \\\n",
    "                                    position_ids=None, ref_position_ids=None):\n",
    "    input_embeddings = interpretable_embedding.indices_to_embeddings(input_ids, token_type_ids=token_type_ids, position_ids=position_ids)\n",
    "    ref_input_embeddings = interpretable_embedding.indices_to_embeddings(ref_input_ids, token_type_ids=token_type_ids, position_ids=position_ids)\n",
    "    \n",
    "    return input_embeddings, ref_input_embeddings\n"
   ]
  },
  {
   "cell_type": "markdown",
   "metadata": {
    "id": "myPJlDqexvcO"
   },
   "source": [
    "Let's define the `question - text` pair that we'd like to use as an input for our Bert model and interpret what the model was forcusing on when predicting an answer to the question from given input text "
   ]
  },
  {
   "cell_type": "code",
   "execution_count": 176,
   "metadata": {
    "id": "8zE2dal2xvcO"
   },
   "outputs": [],
   "source": [
    "premise, hypothesis = \"Three girls blow out the candles of a cake made of Peeps .\",\"There are peeps in the garden .\""
   ]
  },
  {
   "cell_type": "markdown",
   "metadata": {
    "id": "a3dt4RM8xvcO"
   },
   "source": [
    "Let's numericalize the question, the input text and generate corresponding baselines / references for all three sub-embeddings (word, token type and position embeddings) types using our helper functions defined above."
   ]
  },
  {
   "cell_type": "code",
   "execution_count": 177,
   "metadata": {
    "id": "FOAQGFZ4xvcO"
   },
   "outputs": [],
   "source": [
    "input_ids, ref_input_ids, sep_id = construct_input_ref_pair(premise, hypothesis, ref_token_id, sep_token_id, cls_token_id)\n",
    "token_type_ids, ref_token_type_ids = construct_input_ref_token_type_pair(input_ids, sep_id)\n",
    "position_ids, ref_position_ids = construct_input_ref_pos_id_pair(input_ids)\n",
    "attention_mask = construct_attention_mask(input_ids)\n",
    "\n",
    "indices = input_ids[0].detach().tolist()\n",
    "all_tokens = tokenizer.convert_ids_to_tokens(indices)"
   ]
  },
  {
   "cell_type": "markdown",
   "metadata": {
    "id": "FjBnUrAxxvcO"
   },
   "source": [
    "Also, let's define the ground truth for prediction's start and end positions."
   ]
  },
  {
   "cell_type": "code",
   "execution_count": 178,
   "metadata": {
    "id": "rfgwVZlnxvcO"
   },
   "outputs": [],
   "source": [
    "\n",
    "ground_truth_end_ind = \"neutral\"\n",
    "labels = [\"contradiction\",\"entailment\",\"neutral\"]"
   ]
  },
  {
   "cell_type": "markdown",
   "metadata": {
    "id": "BjmqPOoxxvcO"
   },
   "source": [
    "Now let's make predictions using input, token type, position id and a default attention mask."
   ]
  },
  {
   "cell_type": "code",
   "execution_count": 179,
   "metadata": {
    "colab": {
     "base_uri": "https://localhost:8080/"
    },
    "id": "SWP8bOuoxvcP",
    "outputId": "d3ab0565-fa4f-409b-9b70-97af54fff902"
   },
   "outputs": [
    {
     "name": "stdout",
     "output_type": "stream",
     "text": [
      "Predicted Answer:  neutral\n"
     ]
    }
   ],
   "source": [
    "scores = predict(input_ids, \\\n",
    "                                   token_type_ids=token_type_ids, \\\n",
    "                                   position_ids=position_ids, \\\n",
    "                                   attention_mask=attention_mask)[0]\n",
    "\n",
    "#import pdb; pdb.set_trace()\n",
    "print('Predicted Answer: ', labels[torch.argmax(scores)])"
   ]
  },
  {
   "cell_type": "code",
   "execution_count": 180,
   "metadata": {},
   "outputs": [
    {
     "data": {
      "text/plain": [
       "tensor([[0.0963, 0.3384, 0.5653]], device='cuda:0', grad_fn=<SoftmaxBackward>)"
      ]
     },
     "execution_count": 180,
     "metadata": {},
     "output_type": "execute_result"
    }
   ],
   "source": [
    "torch.nn.Softmax(dim=1)(scores)"
   ]
  },
  {
   "cell_type": "markdown",
   "metadata": {
    "id": "gieSwuPdxvcQ"
   },
   "source": [
    "There are two different ways of computing the attributions for `BertEmbeddings` layer. One option is to use `LayerIntegratedGradients` and compute the attributions with respect to that layer. The second option is to pre-compute the embeddings and wrap the actual embeddings with `InterpretableEmbeddingBase`. The pre-computation of embeddings for the second option is necessary because integrated gradients scales the inputs and that won't be meaningful on the level of word / token indices.\n",
    "\n",
    "Since using `LayerIntegratedGradients` is simpler, let's use it here."
   ]
  },
  {
   "cell_type": "code",
   "execution_count": 181,
   "metadata": {
    "id": "MlpMtW_K8YVo"
   },
   "outputs": [],
   "source": [
    "def custom_forward(inputs, token_type_ids=None, position_ids=None, attention_mask=None, position=0, true_label=None):\n",
    "  outputs = predict(inputs, token_type_ids=token_type_ids, position_ids=position_ids, attention_mask=attention_mask)\n",
    "  preds = outputs[0]\n",
    "  if true_label is not None:\n",
    "    return preds[:,true_label]\n",
    "  return preds[:,torch.argmax(scores)]"
   ]
  },
  {
   "cell_type": "code",
   "execution_count": 206,
   "metadata": {
    "id": "XdqFFo6gxvcR",
    "scrolled": true
   },
   "outputs": [],
   "source": [
    "lig = LayerIntegratedGradients(custom_forward, model.bert.embeddings)\n",
    "\n",
    "attributions, delta = lig.attribute(inputs=input_ids,\n",
    "                                  baselines=ref_input_ids,\n",
    "                                  additional_forward_args=(token_type_ids, position_ids, attention_mask, 0, None), # revise this\n",
    "                                  return_convergence_delta=True,\n",
    "                                  n_steps=100, \n",
    "                                   )"
   ]
  },
  {
   "cell_type": "markdown",
   "metadata": {
    "id": "n_GlCKohxvcR"
   },
   "source": [
    "A helper function to summarize attributions for each word token in the sequence."
   ]
  },
  {
   "cell_type": "code",
   "execution_count": 207,
   "metadata": {
    "id": "gl_u2NF4xvcR"
   },
   "outputs": [],
   "source": [
    "def summarize_attributions(attributions):\n",
    "    attributions = attributions.sum(dim=-1).squeeze(0)\n",
    "    attributions = attributions / torch.norm(attributions)\n",
    "    return attributions"
   ]
  },
  {
   "cell_type": "code",
   "execution_count": 208,
   "metadata": {
    "id": "1252XCaZxvcR"
   },
   "outputs": [],
   "source": [
    "attributions_sum = summarize_attributions(attributions)"
   ]
  },
  {
   "cell_type": "code",
   "execution_count": 209,
   "metadata": {
    "colab": {
     "base_uri": "https://localhost:8080/",
     "height": 115
    },
    "id": "P8PzEvYsxvcR",
    "outputId": "35afd733-d8f6-45d2-eb49-280118209ef7"
   },
   "outputs": [
    {
     "name": "stdout",
     "output_type": "stream",
     "text": [
      "\u001b[1m Visualizations For Start Position \u001b[0m\n"
     ]
    },
    {
     "data": {
      "text/html": [
       "<table width: 100%><div style=\"border-top: 1px solid; margin-top: 5px;             padding-top: 5px; display: inline-block\"><b>Legend: </b><span style=\"display: inline-block; width: 10px; height: 10px;                 border: 1px solid; background-color:                 hsl(0, 75%, 60%)\"></span> Negative  <span style=\"display: inline-block; width: 10px; height: 10px;                 border: 1px solid; background-color:                 hsl(0, 75%, 100%)\"></span> Neutral  <span style=\"display: inline-block; width: 10px; height: 10px;                 border: 1px solid; background-color:                 hsl(120, 75%, 50%)\"></span> Positive  </div><tr><th>True Label</th><th>Predicted Label</th><th>Attribution Label</th><th>Attribution Score</th><th>Word Importance</th><tr><td><text style=\"padding-right:2em\"><b>2</b></text></td><td><text style=\"padding-right:2em\"><b>2 (0.57)</b></text></td><td><text style=\"padding-right:2em\"><b>neutral</b></text></td><td><text style=\"padding-right:2em\"><b>-1.04</b></text></td><td><mark style=\"background-color: hsl(0, 75%, 100%); opacity:1.0;                     line-height:1.75\"><font color=\"black\"> [CLS]                    </font></mark><mark style=\"background-color: hsl(120, 75%, 82%); opacity:1.0;                     line-height:1.75\"><font color=\"black\"> three                    </font></mark><mark style=\"background-color: hsl(0, 75%, 82%); opacity:1.0;                     line-height:1.75\"><font color=\"black\"> girls                    </font></mark><mark style=\"background-color: hsl(0, 75%, 93%); opacity:1.0;                     line-height:1.75\"><font color=\"black\"> blow                    </font></mark><mark style=\"background-color: hsl(0, 75%, 95%); opacity:1.0;                     line-height:1.75\"><font color=\"black\"> out                    </font></mark><mark style=\"background-color: hsl(0, 75%, 97%); opacity:1.0;                     line-height:1.75\"><font color=\"black\"> the                    </font></mark><mark style=\"background-color: hsl(0, 75%, 86%); opacity:1.0;                     line-height:1.75\"><font color=\"black\"> candles                    </font></mark><mark style=\"background-color: hsl(120, 75%, 98%); opacity:1.0;                     line-height:1.75\"><font color=\"black\"> of                    </font></mark><mark style=\"background-color: hsl(120, 75%, 95%); opacity:1.0;                     line-height:1.75\"><font color=\"black\"> a                    </font></mark><mark style=\"background-color: hsl(0, 75%, 80%); opacity:1.0;                     line-height:1.75\"><font color=\"black\"> cake                    </font></mark><mark style=\"background-color: hsl(0, 75%, 97%); opacity:1.0;                     line-height:1.75\"><font color=\"black\"> made                    </font></mark><mark style=\"background-color: hsl(120, 75%, 96%); opacity:1.0;                     line-height:1.75\"><font color=\"black\"> of                    </font></mark><mark style=\"background-color: hsl(0, 75%, 98%); opacity:1.0;                     line-height:1.75\"><font color=\"black\"> pee                    </font></mark><mark style=\"background-color: hsl(0, 75%, 96%); opacity:1.0;                     line-height:1.75\"><font color=\"black\"> ##ps                    </font></mark><mark style=\"background-color: hsl(120, 75%, 100%); opacity:1.0;                     line-height:1.75\"><font color=\"black\"> .                    </font></mark><mark style=\"background-color: hsl(0, 75%, 100%); opacity:1.0;                     line-height:1.75\"><font color=\"black\"> [SEP]                    </font></mark><mark style=\"background-color: hsl(120, 75%, 89%); opacity:1.0;                     line-height:1.75\"><font color=\"black\"> there                    </font></mark><mark style=\"background-color: hsl(120, 75%, 98%); opacity:1.0;                     line-height:1.75\"><font color=\"black\"> are                    </font></mark><mark style=\"background-color: hsl(0, 75%, 98%); opacity:1.0;                     line-height:1.75\"><font color=\"black\"> pee                    </font></mark><mark style=\"background-color: hsl(0, 75%, 97%); opacity:1.0;                     line-height:1.75\"><font color=\"black\"> ##ps                    </font></mark><mark style=\"background-color: hsl(0, 75%, 92%); opacity:1.0;                     line-height:1.75\"><font color=\"black\"> in                    </font></mark><mark style=\"background-color: hsl(120, 75%, 89%); opacity:1.0;                     line-height:1.75\"><font color=\"black\"> the                    </font></mark><mark style=\"background-color: hsl(120, 75%, 94%); opacity:1.0;                     line-height:1.75\"><font color=\"black\"> garden                    </font></mark><mark style=\"background-color: hsl(120, 75%, 99%); opacity:1.0;                     line-height:1.75\"><font color=\"black\"> .                    </font></mark><mark style=\"background-color: hsl(0, 75%, 100%); opacity:1.0;                     line-height:1.75\"><font color=\"black\"> [SEP]                    </font></mark></td><tr></table>"
      ],
      "text/plain": [
       "<IPython.core.display.HTML object>"
      ]
     },
     "metadata": {},
     "output_type": "display_data"
    }
   ],
   "source": [
    "# storing couple samples in an array for visualization purposes\n",
    "start_position_vis = viz.VisualizationDataRecord(\n",
    "                        attributions_sum,\n",
    "                        torch.max(torch.softmax(scores[0], dim=0)),\n",
    "#                         torch.max(scores),\n",
    "                        torch.argmax(scores),\n",
    "                        torch.argmax(scores),\n",
    "                        str(ground_truth_end_ind),\n",
    "                        attributions_sum.sum(),       \n",
    "                        all_tokens,\n",
    "                        delta)\n",
    "\n",
    "# end_position_vis = viz.VisualizationDataRecord(\n",
    "#                         attributions_end_sum,\n",
    "#                         torch.max(torch.softmax(end_scores[0], dim=0)),\n",
    "#                         torch.argmax(end_scores),\n",
    "#                         torch.argmax(end_scores),\n",
    "#                         str(ground_truth_end_ind),\n",
    "#                         attributions_end_sum.sum(),       \n",
    "#                         all_tokens,\n",
    "#                         delta_end)\n",
    "\n",
    "print('\\033[1m', 'Visualizations For Start Position', '\\033[0m')\n",
    "viz.visualize_text([start_position_vis])\n",
    "\n",
    "# print('\\033[1m', 'Visualizations For End Position', '\\033[0m')\n",
    "# viz.visualize_text([end_position_vis])"
   ]
  },
  {
   "cell_type": "code",
   "execution_count": 210,
   "metadata": {
    "colab": {
     "base_uri": "https://localhost:8080/"
    },
    "id": "Qei7xro4xvcR",
    "outputId": "0f2086c9-94e0-4464-d14a-2a2c2cd944bb"
   },
   "outputs": [
    {
     "data": {
      "text/plain": [
       "tensor([ 0.0000,  0.3613, -0.4534, -0.1883, -0.1290, -0.0993, -0.3522,  0.0470,\n",
       "         0.1093, -0.5112, -0.0779,  0.0847, -0.0514, -0.1032,  0.0090,  0.0000,\n",
       "         0.2243,  0.0430, -0.0565, -0.0849, -0.2042,  0.2341,  0.1256,  0.0316,\n",
       "         0.0000], device='cuda:0', dtype=torch.float64)"
      ]
     },
     "execution_count": 210,
     "metadata": {},
     "output_type": "execute_result"
    }
   ],
   "source": [
    "attributions_sum\n",
    "# from IPython.display import Image\n",
    "# Image(filename='img/bert/visuals_of_start_end_predictions.png')"
   ]
  },
  {
   "cell_type": "code",
   "execution_count": 211,
   "metadata": {},
   "outputs": [
    {
     "data": {
      "text/plain": [
       "tensor([0.0277], device='cuda:0', dtype=torch.float64)"
      ]
     },
     "execution_count": 211,
     "metadata": {},
     "output_type": "execute_result"
    }
   ],
   "source": [
    "delta"
   ]
  },
  {
   "cell_type": "code",
   "execution_count": 91,
   "metadata": {},
   "outputs": [
    {
     "data": {
      "text/plain": [
       "tensor([ 0.0102, -0.1077, -0.0239, -0.1482,  0.0442,  0.0590,  0.0177, -0.2257,\n",
       "         0.4518,  0.0268,  0.0410,  0.0806, -0.2136, -0.0977,  0.0102,  0.7162,\n",
       "         0.1957,  0.2715,  0.0646,  0.0956,  0.1337,  0.0009, -0.0092, -0.0931,\n",
       "         0.0102], device='cuda:0', dtype=torch.float64)"
      ]
     },
     "execution_count": 91,
     "metadata": {},
     "output_type": "execute_result"
    }
   ],
   "source": [
    "attributions_sum - delta"
   ]
  },
  {
   "cell_type": "markdown",
   "metadata": {
    "id": "ci46a6GoxvcS"
   },
   "source": [
    "From the results above we can tell that for predicting start position our model is focusing more on the question side. More specifically on the tokens `what` and `important`. It has also slight focus on the token sequence `to us` in the text side.\n",
    "\n",
    "In contrast to that, for predicting end position, our model focuses more on the text side and has relative high attribution on the last end position token `kinds`."
   ]
  },
  {
   "cell_type": "markdown",
   "metadata": {
    "id": "KS6gCi_4xvcS"
   },
   "source": [
    "# Multi-Embedding attribution"
   ]
  },
  {
   "cell_type": "markdown",
   "metadata": {
    "id": "gANHr-6ixvcS"
   },
   "source": [
    "Now let's look into the sub-embeddings of `BerEmbeddings` and try to understand the contributions and roles of each of them for both start and end predicted positions.\n",
    "\n",
    "To do so, we'd need to place interpretation hooks in each three of them.\n",
    "\n",
    "Note that we could perform attribution by using `LayerIntegratedGradients` as well but in that case we have to call attribute three times for each sub-layer since currently `LayerIntegratedGradients` takes only a layer at a time. In the future we plan to support multi-layer attribution and will be able to perform attribution by only calling attribute once. \n",
    "\n",
    "`configure_interpretable_embedding_layer` function will help us to place interpretation hooks on each sub-layer. It returns `InterpretableEmbeddingBase` layer for each sub-embedding and can be used to access the embedding vectors. \n",
    "\n",
    "Note that we need to remove InterpretableEmbeddingBase wrapper from our model using remove_interpretable_embedding_layer function after we finish interpretation.\n"
   ]
  },
  {
   "cell_type": "code",
   "execution_count": 56,
   "metadata": {
    "colab": {
     "base_uri": "https://localhost:8080/"
    },
    "id": "49KYza6GxvcS",
    "outputId": "ff21aeef-beeb-417a-9020-c3f7d5da1c17"
   },
   "outputs": [
    {
     "name": "stderr",
     "output_type": "stream",
     "text": [
      "/home/dimion/miniconda3/envs/dimi/lib/python3.8/site-packages/captum/attr/_models/base.py:188: UserWarning: In order to make embedding layers more interpretable they will be replaced with an interpretable embedding layer which wraps the original embedding layer and takes word embedding vectors as inputs of the forward function. This allows us to generate baselines for word embeddings and compute attributions for each embedding dimension. The original embedding layer must be set back by calling `remove_interpretable_embedding_layer` function after model interpretation is finished. \n",
      "  warnings.warn(\n"
     ]
    }
   ],
   "source": [
    "interpretable_embedding1 = configure_interpretable_embedding_layer(model, 'bert.embeddings.word_embeddings')\n",
    "interpretable_embedding2 = configure_interpretable_embedding_layer(model, 'bert.embeddings.token_type_embeddings')\n",
    "interpretable_embedding3 = configure_interpretable_embedding_layer(model, 'bert.embeddings.position_embeddings')"
   ]
  },
  {
   "cell_type": "markdown",
   "metadata": {
    "id": "9Myvp5FIxvcS"
   },
   "source": [
    "`BertEmbeddings` has three sub-embeddings, namely, `word_embeddings`, `token_type_embeddings` and `position_embeddings` and this time we would like to attribute to each of them independently.\n",
    "`construct_bert_sub_embedding` helper function helps us to construct input embeddings and corresponding references in a separation."
   ]
  },
  {
   "cell_type": "code",
   "execution_count": 57,
   "metadata": {
    "id": "0SWidc_2xvcS"
   },
   "outputs": [],
   "source": [
    "(input_embed, ref_input_embed), (token_type_ids_embed, ref_token_type_ids_embed), (position_ids_embed, ref_position_ids_embed) = construct_bert_sub_embedding(input_ids, ref_input_ids, \\\n",
    "                                         token_type_ids=token_type_ids, ref_token_type_ids=ref_token_type_ids, \\\n",
    "                                         position_ids=position_ids, ref_position_ids=ref_position_ids)"
   ]
  },
  {
   "cell_type": "markdown",
   "metadata": {
    "id": "E8SOAl0rxvcS"
   },
   "source": [
    "Now let's create an instance of `IntegratedGradients` and compute the attributions with respect to all those embeddings both for the start and end positions and summarize them for each word token."
   ]
  },
  {
   "cell_type": "code",
   "execution_count": 58,
   "metadata": {
    "id": "IozEUyaQxvcS"
   },
   "outputs": [],
   "source": [
    "ig = IntegratedGradients(custom_forward)\n",
    "\n",
    "attributions_start = ig.attribute(inputs=(input_embed, token_type_ids_embed, position_ids_embed),\n",
    "                                  baselines=(ref_input_embed, ref_token_type_ids_embed, ref_position_ids_embed),\n",
    "                                  additional_forward_args=(attention_mask, 0))\n",
    "\n",
    "attributions_start_word = summarize_attributions(attributions_start[0])\n",
    "\n",
    "attributions_start_token_type = summarize_attributions(attributions_start[1])\n",
    "\n",
    "attributions_start_position = summarize_attributions(attributions_start[2])\n"
   ]
  },
  {
   "cell_type": "markdown",
   "metadata": {
    "id": "OLFvUVA4xvcS"
   },
   "source": [
    "An auxilary function that will help us to compute topk attributions and corresponding indices"
   ]
  },
  {
   "cell_type": "code",
   "execution_count": 59,
   "metadata": {
    "id": "TnCrQBKixvcS"
   },
   "outputs": [],
   "source": [
    "def get_topk_attributed_tokens(attrs, k=5):\n",
    "    values, indices = torch.topk(attrs, k)\n",
    "    top_tokens = [all_tokens[idx] for idx in indices]\n",
    "    return top_tokens, values, indices"
   ]
  },
  {
   "cell_type": "markdown",
   "metadata": {
    "id": "JrHY1wQJxvcS"
   },
   "source": [
    "Removing interpretation hooks from all layers after finishing attribution."
   ]
  },
  {
   "cell_type": "code",
   "execution_count": 60,
   "metadata": {
    "id": "tVZ-PSgsxvcS"
   },
   "outputs": [],
   "source": [
    "remove_interpretable_embedding_layer(model, interpretable_embedding1)\n",
    "remove_interpretable_embedding_layer(model, interpretable_embedding2)\n",
    "remove_interpretable_embedding_layer(model, interpretable_embedding3)"
   ]
  },
  {
   "cell_type": "markdown",
   "metadata": {
    "id": "E9u90MHjxvcS"
   },
   "source": [
    "Computing topk attributions for all sub-embeddings and placing them in pandas dataframes for better visualization."
   ]
  },
  {
   "cell_type": "code",
   "execution_count": 61,
   "metadata": {
    "colab": {
     "base_uri": "https://localhost:8080/"
    },
    "id": "np2ZbdDuxvcS",
    "outputId": "61305733-cafc-4c42-c186-5649d0f2dd30"
   },
   "outputs": [
    {
     "data": {
      "text/plain": [
       "['[CLS](0)',\n",
       " 'two(1)',\n",
       " 'blond(2)',\n",
       " 'women(3)',\n",
       " 'are(4)',\n",
       " 'hugging(5)',\n",
       " 'one(6)',\n",
       " 'another(7)',\n",
       " '.(8)',\n",
       " '[SEP](9)',\n",
       " 'the(10)',\n",
       " 'women(11)',\n",
       " 'are(12)',\n",
       " 'sleeping(13)',\n",
       " '.(14)',\n",
       " '[SEP](15)']"
      ]
     },
     "execution_count": 61,
     "metadata": {},
     "output_type": "execute_result"
    }
   ],
   "source": [
    "top_words_start, top_words_val_start, top_word_ind_start = get_topk_attributed_tokens(attributions_start_word)\n",
    "\n",
    "top_token_type_start, top_token_type_val_start, top_token_type_ind_start = get_topk_attributed_tokens(attributions_start_token_type)\n",
    "\n",
    "top_pos_start, top_pos_val_start, pos_ind_start = get_topk_attributed_tokens(attributions_start_position)\n",
    "\n",
    "df_start = pd.DataFrame({'Word(Index), Attribution': [\"{} ({}), {}\".format(word, pos, round(val.item(),2)) for word, pos, val in zip(top_words_start, top_word_ind_start, top_words_val_start)],\n",
    "                   'Token Type(Index), Attribution': [\"{} ({}), {}\".format(ttype, pos, round(val.item(),2)) for ttype, pos, val in zip(top_token_type_start, top_token_type_ind_start, top_words_val_start)],\n",
    "                   'Position(Index), Attribution': [\"{} ({}), {}\".format(position, pos, round(val.item(),2)) for position, pos, val in zip(top_pos_start, pos_ind_start, top_pos_val_start)]})\n",
    "df_start.style.apply(['cell_ids: False'])\n",
    "\n",
    "['{}({})'.format(token, str(i)) for i, token in enumerate(all_tokens)]"
   ]
  },
  {
   "cell_type": "markdown",
   "metadata": {
    "id": "D_URMA1yxvcT"
   },
   "source": [
    "Below we can see top 5 attribution results from all three embedding types in predicting start positions."
   ]
  },
  {
   "cell_type": "markdown",
   "metadata": {
    "id": "ndjaXTAaxvcT"
   },
   "source": [
    "#### Top 5 attributed embeddings for start position"
   ]
  },
  {
   "cell_type": "code",
   "execution_count": 62,
   "metadata": {
    "colab": {
     "base_uri": "https://localhost:8080/",
     "height": 204
    },
    "id": "gyVrDhXIxvcT",
    "outputId": "4922a8d0-1e60-4445-c8ed-000da5dd977b"
   },
   "outputs": [
    {
     "data": {
      "text/html": [
       "<div>\n",
       "<style scoped>\n",
       "    .dataframe tbody tr th:only-of-type {\n",
       "        vertical-align: middle;\n",
       "    }\n",
       "\n",
       "    .dataframe tbody tr th {\n",
       "        vertical-align: top;\n",
       "    }\n",
       "\n",
       "    .dataframe thead th {\n",
       "        text-align: right;\n",
       "    }\n",
       "</style>\n",
       "<table border=\"1\" class=\"dataframe\">\n",
       "  <thead>\n",
       "    <tr style=\"text-align: right;\">\n",
       "      <th></th>\n",
       "      <th>Word(Index), Attribution</th>\n",
       "      <th>Token Type(Index), Attribution</th>\n",
       "      <th>Position(Index), Attribution</th>\n",
       "    </tr>\n",
       "  </thead>\n",
       "  <tbody>\n",
       "    <tr>\n",
       "      <th>0</th>\n",
       "      <td>sleeping (13), 0.91</td>\n",
       "      <td>. (14), 0.91</td>\n",
       "      <td>sleeping (13), 0.98</td>\n",
       "    </tr>\n",
       "    <tr>\n",
       "      <th>1</th>\n",
       "      <td>women (11), 0.23</td>\n",
       "      <td>blond (2), 0.23</td>\n",
       "      <td>one (6), 0.08</td>\n",
       "    </tr>\n",
       "    <tr>\n",
       "      <th>2</th>\n",
       "      <td>. (14), 0.16</td>\n",
       "      <td>[CLS] (0), 0.16</td>\n",
       "      <td>. (14), 0.07</td>\n",
       "    </tr>\n",
       "    <tr>\n",
       "      <th>3</th>\n",
       "      <td>two (1), 0.16</td>\n",
       "      <td>women (3), 0.16</td>\n",
       "      <td>another (7), 0.07</td>\n",
       "    </tr>\n",
       "    <tr>\n",
       "      <th>4</th>\n",
       "      <td>another (7), 0.14</td>\n",
       "      <td>two (1), 0.14</td>\n",
       "      <td>are (12), 0.07</td>\n",
       "    </tr>\n",
       "  </tbody>\n",
       "</table>\n",
       "</div>"
      ],
      "text/plain": [
       "  Word(Index), Attribution Token Type(Index), Attribution  \\\n",
       "0      sleeping (13), 0.91                   . (14), 0.91   \n",
       "1         women (11), 0.23                blond (2), 0.23   \n",
       "2             . (14), 0.16                [CLS] (0), 0.16   \n",
       "3            two (1), 0.16                women (3), 0.16   \n",
       "4        another (7), 0.14                  two (1), 0.14   \n",
       "\n",
       "  Position(Index), Attribution  \n",
       "0          sleeping (13), 0.98  \n",
       "1                one (6), 0.08  \n",
       "2                 . (14), 0.07  \n",
       "3            another (7), 0.07  \n",
       "4               are (12), 0.07  "
      ]
     },
     "execution_count": 62,
     "metadata": {},
     "output_type": "execute_result"
    }
   ],
   "source": [
    "df_start"
   ]
  },
  {
   "cell_type": "markdown",
   "metadata": {
    "id": "FxKeTwYPxvcT"
   },
   "source": [
    "Word embeddings help to focus more on the surrounding tokens of the predicted answer's start position to such as em, ##power and ,. It also has high attribution for the tokens in the question such as what and ?.\n",
    "\n",
    "In contrast to to word embedding, token embedding type focuses more on the tokens in the text part such as important,em and start token to.\n",
    "\n",
    "Position embedding also has high attribution score for the tokens surrounding to such as us and important. In addition to that, similar to word embedding we observe important tokens from the question.\n",
    "\n",
    "We can perform similar analysis, and visualize top 5 attributed tokens for all three embedding types, also for the end position prediction.\n"
   ]
  },
  {
   "cell_type": "markdown",
   "metadata": {
    "id": "QBbCN5_SxvcT"
   },
   "source": [
    "#### Top 5 attributed embeddings for end position"
   ]
  },
  {
   "cell_type": "code",
   "execution_count": 63,
   "metadata": {
    "colab": {
     "base_uri": "https://localhost:8080/",
     "height": 204
    },
    "id": "FxK_h6i3xvcT",
    "outputId": "47b36b93-f208-4da1-b21c-ee9081f524ea"
   },
   "outputs": [],
   "source": [
    "# df_end"
   ]
  },
  {
   "cell_type": "markdown",
   "metadata": {
    "id": "mYYGP5ClxvcU"
   },
   "source": [
    "It is interesting to observe high concentration of highly attributed tokens such as `of`, `kinds`, `support` and `##power` for end position prediction.\n",
    "\n",
    "The token `kinds`, which is the correct predicted token appears to have high attribution score both according word and position embeddings.\n"
   ]
  },
  {
   "cell_type": "markdown",
   "metadata": {
    "id": "RupCjkimxvcU"
   },
   "source": [
    "# Interpreting Bert Layers"
   ]
  },
  {
   "cell_type": "markdown",
   "metadata": {
    "id": "X65z6G4YxvcU"
   },
   "source": [
    "Now let's look into the layers of our network. More specifically we would like to look into the distribution of attribution scores for each token across all layers in Bert model and dive deeper into specific tokens.  \n",
    "We do that using one of layer attribution algorithms, namely, layer conductance. However, we encourage you to try out and compare the results with other algorithms as well.\n",
    "\n",
    "\n",
    "Let's configure `InterpretableEmbeddingsBase` again, in this case in order to interpret the layers of our model."
   ]
  },
  {
   "cell_type": "code",
   "execution_count": 64,
   "metadata": {
    "colab": {
     "base_uri": "https://localhost:8080/"
    },
    "id": "q9JB_sk4xvcU",
    "outputId": "bfd9a78c-36b8-4a17-9db9-045a32e1510f"
   },
   "outputs": [
    {
     "name": "stderr",
     "output_type": "stream",
     "text": [
      "/home/dimion/miniconda3/envs/dimi/lib/python3.8/site-packages/captum/attr/_models/base.py:188: UserWarning: In order to make embedding layers more interpretable they will be replaced with an interpretable embedding layer which wraps the original embedding layer and takes word embedding vectors as inputs of the forward function. This allows us to generate baselines for word embeddings and compute attributions for each embedding dimension. The original embedding layer must be set back by calling `remove_interpretable_embedding_layer` function after model interpretation is finished. \n",
      "  warnings.warn(\n"
     ]
    }
   ],
   "source": [
    "interpretable_embedding = configure_interpretable_embedding_layer(model, 'bert.embeddings')"
   ]
  },
  {
   "cell_type": "markdown",
   "metadata": {
    "id": "7PvbJb1NxvcU"
   },
   "source": [
    "Let's iterate over all layers and compute the attributions for all tokens. In addition to that let's also choose a specific token that we would like to examine in detail, specified by an id `token_to_explain` and store related information in a separate array.\n",
    "\n",
    "\n",
    "Note: Since below code is iterating over all layers it can take over 5 seconds. Please be patient!"
   ]
  },
  {
   "cell_type": "code",
   "execution_count": 65,
   "metadata": {
    "colab": {
     "base_uri": "https://localhost:8080/",
     "height": 392
    },
    "id": "pnc9c5jexvcU",
    "outputId": "678957f1-396b-48ce-8823-8e4afee36888"
   },
   "outputs": [],
   "source": [
    "layer_attrs_start = []\n",
    "\n",
    "# The token that we would like to examine separately.\n",
    "token_to_explain = 9 # the index of the token that we would like to examine more thoroughly\n",
    "layer_attrs_start_dist = []\n",
    "\n",
    "input_embeddings, ref_input_embeddings = construct_whole_bert_embeddings(input_ids, ref_input_ids, \\\n",
    "                                         token_type_ids=token_type_ids, ref_token_type_ids=ref_token_type_ids, \\\n",
    "                                         position_ids=position_ids, ref_position_ids=ref_position_ids)\n",
    "\n",
    "for i in range(model.config.num_hidden_layers):\n",
    "    lc = LayerConductance(custom_forward, model.bert.encoder.layer[i])\n",
    "    layer_attributions_start = lc.attribute(inputs=input_embeddings, baselines=ref_input_embeddings, additional_forward_args=(token_type_ids, position_ids,attention_mask, 0))[0]\n",
    "#     layer_attributions_end = lc.attribute(inputs=input_embeddings, baselines=ref_input_embeddings, additional_forward_args=(token_type_ids, position_ids,attention_mask, 1))[0]\n",
    " \n",
    "    layer_attrs_start.append(summarize_attributions(layer_attributions_start).cpu().detach().tolist())\n",
    "#     layer_attrs_end.append(summarize_attributions(layer_attributions_end).cpu().detach().tolist())\n",
    "\n",
    "    # storing attributions of the token id that we would like to examine in more detail in token_to_explain\n",
    "    layer_attrs_start_dist.append(layer_attributions_start[0,token_to_explain].cpu().detach().tolist())\n",
    "#     layer_attrs_end_dist.append(layer_attributions_end[0,token_to_explain,:].cpu().detach().tolist())\n"
   ]
  },
  {
   "cell_type": "markdown",
   "metadata": {
    "id": "OSH2NonjxvcU"
   },
   "source": [
    "The plot below represents a heat map of attributions across all layers and tokens for the start position prediction. \n",
    "It is interesting to observe that the question word `what` gains increasingly high attribution from layer one to nine. In the last three layers that importance is slowly diminishing.  \n",
    "In contrary to `what` token, many other tokens have negative or close to zero attribution in the first 6 layers. \n",
    "\n",
    "We start seeing slightly higher attribution in tokens `important`, `us` and `to`. Interestingly token `em` is also assigned high attribution score which is remarkably high the last three layers.\n",
    "And lastly, our correctly predicted token `to` for the start position gains increasingly positive attribution has relatively high attribution especially in the last two layers.\n"
   ]
  },
  {
   "cell_type": "code",
   "execution_count": 66,
   "metadata": {
    "id": "M1t2VJMRxvcU"
   },
   "outputs": [
    {
     "data": {
      "image/png": "[encoded data removed]",
      "text/plain": [
       "<Figure size 1080x360 with 2 Axes>"
      ]
     },
     "metadata": {
      "needs_background": "light"
     },
     "output_type": "display_data"
    }
   ],
   "source": [
    "fig, ax = plt.subplots(figsize=(15,5))\n",
    "xticklabels=all_tokens\n",
    "yticklabels=list(range(1,13))\n",
    "ax = sns.heatmap(np.array(layer_attrs_start), xticklabels=xticklabels, yticklabels=yticklabels, linewidth=0.2)\n",
    "plt.xlabel('Tokens')\n",
    "plt.ylabel('Layers')\n",
    "plt.show()"
   ]
  },
  {
   "cell_type": "markdown",
   "metadata": {
    "id": "obbvayTgxvcU"
   },
   "source": [
    "Now let's examine the heat map of the attributions for the end position prediction. In the case of end position prediction we again observe high attribution scores for the token `what` in the last 11 layers.\n",
    "The correctly predicted end token `kinds` has positive attribution across all layers and it is especially prominent in the last two layers."
   ]
  },
  {
   "cell_type": "code",
   "execution_count": 30,
   "metadata": {
    "id": "cP92Z3M4xvcU"
   },
   "outputs": [],
   "source": [
    "# fig, ax = plt.subplots(figsize=(15,5))\n",
    "\n",
    "# xticklabels=all_tokens\n",
    "# yticklabels=list(range(1,13))\n",
    "# ax = sns.heatmap(np.array(layer_attrs_end), xticklabels=xticklabels, yticklabels=yticklabels, linewidth=0.2) #, annot=True\n",
    "# plt.xlabel('Tokens')\n",
    "# plt.ylabel('Layers')\n",
    "\n",
    "# plt.show()"
   ]
  },
  {
   "cell_type": "markdown",
   "metadata": {
    "id": "iQlIy7nUxvcU"
   },
   "source": [
    "It is interesting to note that when we compare the heat maps of start and end position, overall the colors for start position prediction on the map have darker intensities. This implies that there are less tokens that attribute positively to the start position prediction and there are more tokens which are negative indicators or signals of start position prediction."
   ]
  },
  {
   "cell_type": "markdown",
   "metadata": {
    "id": "kHVM7VEZxvcU"
   },
   "source": [
    "Now let's dig deeper into specific tokens and look into the distribution of attributions per layer for the token `kinds` in the start and end positions. The box plot diagram below shows the presence of outliers especially in the first four layers and in layer 8. We also observe that for start position prediction interquartile range slowly decreases as we go deeper into the layers and finally it is dimishing.\n",
    "\n"
   ]
  },
  {
   "cell_type": "code",
   "execution_count": 31,
   "metadata": {
    "id": "cjI6cMLYxvcU"
   },
   "outputs": [
    {
     "data": {
      "image/png": "[encoded data removed]",
      "text/plain": [
       "<Figure size 1440x720 with 1 Axes>"
      ]
     },
     "metadata": {
      "needs_background": "light"
     },
     "output_type": "display_data"
    }
   ],
   "source": [
    "fig, ax = plt.subplots(figsize=(20,10))\n",
    "ax = sns.boxplot(data=layer_attrs_start_dist)\n",
    "plt.xlabel('Layers')\n",
    "plt.ylabel('Attribution')\n",
    "plt.show()"
   ]
  },
  {
   "cell_type": "markdown",
   "metadata": {
    "id": "bi5NmYM5xvcV"
   },
   "source": [
    "Now let's plot same distribution but for the prediction of the end position. Here attribution has larger positive values across all layers and the interquartile range doesn't change much when moving deeper into the layers."
   ]
  },
  {
   "cell_type": "code",
   "execution_count": 32,
   "metadata": {
    "id": "EjxeZqLaxvcV"
   },
   "outputs": [],
   "source": [
    "# fig, ax = plt.subplots(figsize=(20,10))\n",
    "# ax = sns.boxplot(data=layer_attrs_end_dist)\n",
    "# plt.xlabel('Layers')\n",
    "# plt.ylabel('Attribution')\n",
    "# plt.show()"
   ]
  },
  {
   "cell_type": "markdown",
   "metadata": {
    "id": "dmCuaWSVxvcW"
   },
   "source": [
    "Now, let's remove interpretation hooks, since we finished interpretation at this point"
   ]
  },
  {
   "cell_type": "code",
   "execution_count": 33,
   "metadata": {
    "id": "x9ANGmXKxvcW"
   },
   "outputs": [],
   "source": [
    "remove_interpretable_embedding_layer(model, interpretable_embedding)"
   ]
  },
  {
   "cell_type": "markdown",
   "metadata": {
    "id": "eBhOaD4kxvcW"
   },
   "source": [
    "In addition to that we can also look into the distribution of attributions in each layer for any input token. This will help us to better understand and compare the distributional patterns of attributions across multiple layers. We can for example represent attributions as a probability density function (pdf) and compute the entropy of it in order to estimate the entropy of attributions in each layer. This can be easily computed using a histogram."
   ]
  },
  {
   "cell_type": "code",
   "execution_count": 34,
   "metadata": {
    "id": "3tE9jNXdxvcW"
   },
   "outputs": [],
   "source": [
    "def pdf_attr(attrs, bins=100):\n",
    "    return np.histogram(attrs, bins=bins, density=True)[0]"
   ]
  },
  {
   "cell_type": "markdown",
   "metadata": {
    "id": "9koPpXhHxvcW"
   },
   "source": [
    "In this particular case let's compute the pdf for the attributions at end positions `kinds`. We can however do it for all tokens.\n",
    "\n",
    "We will compute and visualize the pdfs and entropies using Shannon's Entropy measure for each layer for token `kinds`."
   ]
  },
  {
   "cell_type": "code",
   "execution_count": 35,
   "metadata": {
    "id": "eW_ngtIWxvcW"
   },
   "outputs": [],
   "source": [
    "layer_attrs_start_pdf = map(lambda layer_attrs_start_dist: pdf_attr(layer_attrs_start_dist), layer_attrs_start_dist)\n",
    "layer_attrs_start_pdf = np.array(list(layer_attrs_start_pdf))\n",
    "\n",
    "# summing attribution along embedding diemension for each layer\n",
    "# size: #layers\n",
    "attr_sum = np.array(layer_attrs_start_dist).sum(-1)\n",
    "\n",
    "# size: #layers\n",
    "layer_attrs_start_pdf_norm = np.linalg.norm(layer_attrs_start_pdf, axis=-1, ord=1)\n",
    "\n",
    "#size: #bins x #layers\n",
    "layer_attrs_start_pdf = np.transpose(layer_attrs_start_pdf)\n",
    "\n",
    "#size: #bins x #layers\n",
    "layer_attrs_start_pdf = np.divide(layer_attrs_start_pdf, layer_attrs_start_pdf_norm, where=layer_attrs_start_pdf_norm!=0)"
   ]
  },
  {
   "cell_type": "markdown",
   "metadata": {
    "id": "ksXoqJVrxvcW"
   },
   "source": [
    "The plot below visualizes the probability mass function (pmf) of attributions for each layer for the end position token `kinds`. From the plot we can observe that the distributions are taking bell-curved shapes with different means and variances.\n",
    "We can now use attribution pdfs to compute entropies in the next cell."
   ]
  },
  {
   "cell_type": "code",
   "execution_count": 36,
   "metadata": {
    "id": "FAxkMNPaxvcW"
   },
   "outputs": [
    {
     "data": {
      "image/png": "[encoded data removed]",
      "text/plain": [
       "<Figure size 1440x720 with 1 Axes>"
      ]
     },
     "metadata": {
      "needs_background": "light"
     },
     "output_type": "display_data"
    }
   ],
   "source": [
    "fig, ax = plt.subplots(figsize=(20,10))\n",
    "plt.plot(layer_attrs_start_pdf)\n",
    "plt.xlabel('Bins')\n",
    "plt.ylabel('Density')\n",
    "plt.legend(['Layer '+ str(i) for i in range(1,13)])\n",
    "plt.show()"
   ]
  },
  {
   "cell_type": "markdown",
   "metadata": {
    "id": "OaMf_tP8xvcW"
   },
   "source": [
    "Below we calculate and visualize attribution entropies based on Shannon entropy measure where the x-axis corresponds to the number of layers and the y-axis corresponds to the total attribution in that layer. The size of the circles for each (layer, total_attribution) pair correspond to the normalized entropy value at that point.\n",
    "\n",
    "In this particular example, we observe that the entropy doesn't change much from layer to layer, however in a general case entropy can provide us an intuition about the distributional characteristics of attributions in each layer and can be useful especially when comparing it across multiple tokens.\n"
   ]
  },
  {
   "cell_type": "code",
   "execution_count": 37,
   "metadata": {
    "id": "c0IoTsYlxvcW"
   },
   "outputs": [
    {
     "ename": "TypeError",
     "evalue": "object of type 'numpy.float64' has no len()",
     "output_type": "error",
     "traceback": [
      "\u001b[0;31m---------------------------------------------------------------------------\u001b[0m",
      "\u001b[0;31mTypeError\u001b[0m                                 Traceback (most recent call last)",
      "\u001b[0;32m<ipython-input-37-759bc02977fb>\u001b[0m in \u001b[0;36m<module>\u001b[0;34m\u001b[0m\n\u001b[1;32m      8\u001b[0m \u001b[0mentropies\u001b[0m\u001b[0;34m=\u001b[0m \u001b[0;34m-\u001b[0m\u001b[0;34m(\u001b[0m\u001b[0mlayer_attrs_start_pdf\u001b[0m \u001b[0;34m*\u001b[0m \u001b[0mlayer_attrs_start_pdf_log\u001b[0m\u001b[0;34m)\u001b[0m\u001b[0;34m.\u001b[0m\u001b[0msum\u001b[0m\u001b[0;34m(\u001b[0m\u001b[0;36m0\u001b[0m\u001b[0;34m)\u001b[0m\u001b[0;34m\u001b[0m\u001b[0;34m\u001b[0m\u001b[0m\n\u001b[1;32m      9\u001b[0m \u001b[0;34m\u001b[0m\u001b[0m\n\u001b[0;32m---> 10\u001b[0;31m \u001b[0mplt\u001b[0m\u001b[0;34m.\u001b[0m\u001b[0mscatter\u001b[0m\u001b[0;34m(\u001b[0m\u001b[0mnp\u001b[0m\u001b[0;34m.\u001b[0m\u001b[0marange\u001b[0m\u001b[0;34m(\u001b[0m\u001b[0mlen\u001b[0m\u001b[0;34m(\u001b[0m\u001b[0mattr_sum\u001b[0m\u001b[0;34m)\u001b[0m\u001b[0;34m)\u001b[0m\u001b[0;34m,\u001b[0m \u001b[0mattr_sum\u001b[0m\u001b[0;34m,\u001b[0m \u001b[0ms\u001b[0m\u001b[0;34m=\u001b[0m\u001b[0mentropies\u001b[0m \u001b[0;34m*\u001b[0m \u001b[0;36m100\u001b[0m\u001b[0;34m)\u001b[0m\u001b[0;34m\u001b[0m\u001b[0;34m\u001b[0m\u001b[0m\n\u001b[0m\u001b[1;32m     11\u001b[0m \u001b[0mplt\u001b[0m\u001b[0;34m.\u001b[0m\u001b[0mxlabel\u001b[0m\u001b[0;34m(\u001b[0m\u001b[0;34m'Layers'\u001b[0m\u001b[0;34m)\u001b[0m\u001b[0;34m\u001b[0m\u001b[0;34m\u001b[0m\u001b[0m\n\u001b[1;32m     12\u001b[0m \u001b[0mplt\u001b[0m\u001b[0;34m.\u001b[0m\u001b[0mylabel\u001b[0m\u001b[0;34m(\u001b[0m\u001b[0;34m'Total Attribution'\u001b[0m\u001b[0;34m)\u001b[0m\u001b[0;34m\u001b[0m\u001b[0;34m\u001b[0m\u001b[0m\n",
      "\u001b[0;31mTypeError\u001b[0m: object of type 'numpy.float64' has no len()"
     ]
    },
    {
     "data": {
      "image/png": "[encoded data removed]",
      "text/plain": [
       "<Figure size 1440x720 with 1 Axes>"
      ]
     },
     "metadata": {
      "needs_background": "light"
     },
     "output_type": "display_data"
    }
   ],
   "source": [
    "fig, ax = plt.subplots(figsize=(20,10))\n",
    "\n",
    "# replacing 0s with 1s. np.log(1) = 0 and np.log(0) = -inf\n",
    "layer_attrs_start_pdf[layer_attrs_start_pdf == 0] = 1\n",
    "layer_attrs_start_pdf_log = np.log2(layer_attrs_start_pdf)\n",
    "\n",
    "# size: #layers\n",
    "entropies= -(layer_attrs_start_pdf * layer_attrs_start_pdf_log).sum(0)\n",
    "\n",
    "plt.scatter(np.arange(len(attr_sum)), attr_sum, s=entropies * 100)\n",
    "plt.xlabel('Layers')\n",
    "plt.ylabel('Total Attribution')\n",
    "plt.show()"
   ]
  },
  {
   "cell_type": "markdown",
   "metadata": {
    "id": "vy313kiFxvcW"
   },
   "source": [
    "In the Part 2 of this tutorial we will to go deeper into attention layers, heads and compare the attributions with the attention weight matrices, study and discuss related statistics."
   ]
  },
  {
   "cell_type": "code",
   "execution_count": null,
   "metadata": {},
   "outputs": [],
   "source": []
  },
  {
   "cell_type": "code",
   "execution_count": null,
   "metadata": {},
   "outputs": [],
   "source": []
  }
 ],
 "metadata": {
  "accelerator": "GPU",
  "colab": {
   "collapsed_sections": [],
   "name": "Bert_SQUAD_Interpret.ipynb",
   "provenance": []
  },
  "kernelspec": {
   "display_name": "Python 3",
   "language": "python",
   "name": "python3"
  },
  "language_info": {
   "codemirror_mode": {
    "name": "ipython",
    "version": 3
   },
   "file_extension": ".py",
   "mimetype": "text/x-python",
   "name": "python",
   "nbconvert_exporter": "python",
   "pygments_lexer": "ipython3",
   "version": "3.8.5"
  }
 },
 "nbformat": 4,
 "nbformat_minor": 4
}
